{
 "cells": [
  {
   "cell_type": "markdown",
   "id": "8a685cb9",
   "metadata": {},
   "source": [
    "$\\hat{y} = b_0 + b_1 x$\n",
    "\n",
    "$\\hat{y}$ predicted value\n",
    "\n",
    "$b_0$ the $y$-intercept of the line\n",
    "\n",
    "$b_1$ coefficient\n",
    "\n",
    "$x$ input value"
   ]
  },
  {
   "cell_type": "markdown",
   "id": "951ef421",
   "metadata": {},
   "source": [
    "$y = b_0 + b_1 x + \\epsilon$\n",
    "\n",
    "$y$ actual given values\n",
    "\n",
    "$\\epsilon$ error"
   ]
  },
  {
   "cell_type": "code",
   "execution_count": 3,
   "id": "af5e96be",
   "metadata": {},
   "outputs": [],
   "source": [
    "import pandas as pd\n",
    "import numpy as np"
   ]
  },
  {
   "cell_type": "code",
   "execution_count": null,
   "id": "6e2edaa6",
   "metadata": {},
   "outputs": [],
   "source": [
    "teams = pd.read_csv(\"teams.csv\")"
   ]
  }
 ],
 "metadata": {
  "kernelspec": {
   "display_name": "Python 3 (ipykernel)",
   "language": "python",
   "name": "python3"
  },
  "language_info": {
   "codemirror_mode": {
    "name": "ipython",
    "version": 3
   },
   "file_extension": ".py",
   "mimetype": "text/x-python",
   "name": "python",
   "nbconvert_exporter": "python",
   "pygments_lexer": "ipython3",
   "version": "3.9.13"
  }
 },
 "nbformat": 4,
 "nbformat_minor": 5
}
